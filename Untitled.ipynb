{
 "cells": [
  {
   "cell_type": "markdown",
   "id": "495c44b9-1798-4fc3-a88a-2ef5a3daaaef",
   "metadata": {},
   "source": [
    "# Título do Notebook"
   ]
  },
  {
   "cell_type": "markdown",
   "id": "e99448ea-6eb5-4923-a275-7df9b38fab3f",
   "metadata": {},
   "source": [
    "## Introdução\n",
    "Este notebook foi criado para demonstrar o uso de Markdown e Python no Jupyter Notebook. Vamos explorar alguns conceitos fundamentais de Ciência de Dados e suas ferramentas."
   ]
  },
  {
   "cell_type": "markdown",
   "id": "a95b0283-e11b-4f7d-afa5-39d20f7677f1",
   "metadata": {},
   "source": [
    "## Linguagens de Ciência de Dados\n",
    "\n",
    "As principais linguagens usadas em Ciência de Dados incluem:\n",
    "\n",
    "- Python\n",
    "- R\n",
    "- SQL\n",
    "- Julia\n",
    "- Scala"
   ]
  },
  {
   "cell_type": "markdown",
   "id": "a9a73267-7b3f-4931-a3b8-dba1b702cc3e",
   "metadata": {},
   "source": [
    "## Bibliotecas de Ciência de Dados\n",
    "\n",
    "As bibliotecas mais comuns para Ciência de Dados são:\n",
    "\n",
    "- Pandas\n",
    "- NumPy\n",
    "- Matplotlib\n",
    "- Scikit-learn\n",
    "- TensorFlow\n",
    "- PyTorch\n",
    "- Seaborn\n",
    "- Keras"
   ]
  },
  {
   "cell_type": "markdown",
   "id": "beaa95ac-2b98-4a81-81e3-bbf50572f1f9",
   "metadata": {},
   "source": [
    "## Ferramentas de Ciência de Dados\n",
    "\n",
    "| Ferramenta       | Descrição                                      |\n",
    "|------------------|------------------------------------------------|\n",
    "| Jupyter Notebook | Ambiente interativo para análise de dados     |\n",
    "| VSCode           | Editor de código com suporte a Python          |\n",
    "| Git              | Sistema de controle de versão                  |\n",
    "| Docker           | Plataforma para automação de contêineres       |\n",
    "| Tableau          | Ferramenta para visualização de dados          |"
   ]
  },
  {
   "cell_type": "markdown",
   "id": "df6ecc95-d8d2-4d5f-8590-8283114d8f7e",
   "metadata": {},
   "source": [
    "## Exemplos de Expressões Aritméticas\n",
    "\n",
    "- Soma: 2 + 3 = 5\n",
    "- Subtração: 5 - 2 = 3\n",
    "- Multiplicação: 4 * 3 = 12\n",
    "- Divisão: 10 / 2 = 5\n",
    "- Exponenciação: 2 ** 3 = 8"
   ]
  },
  {
   "cell_type": "code",
   "execution_count": 2,
   "id": "6b9dc614-72c2-43a8-b42c-ac194ab8a73a",
   "metadata": {},
   "outputs": [
    {
     "data": {
      "text/plain": [
       "(50, 15)"
      ]
     },
     "execution_count": 2,
     "metadata": {},
     "output_type": "execute_result"
    }
   ],
   "source": [
    "# Multiplicação e Adição\n",
    "num1 = 5\n",
    "num2 = 10\n",
    "\n",
    "multiplicacao = num1 * num2\n",
    "adicao = num1 + num2\n",
    "\n",
    "multiplicacao, adicao"
   ]
  },
  {
   "cell_type": "code",
   "execution_count": 3,
   "id": "7a47498f-5d3a-400b-afd7-e2bf40042102",
   "metadata": {},
   "outputs": [
    {
     "data": {
      "text/plain": [
       "3.0"
      ]
     },
     "execution_count": 3,
     "metadata": {},
     "output_type": "execute_result"
    }
   ],
   "source": [
    "# Convertendo minutos em horas\n",
    "minutos = 180\n",
    "horas = minutos / 60\n",
    "\n",
    "horas"
   ]
  },
  {
   "cell_type": "markdown",
   "id": "5e3d624d-22d6-489f-bcfc-df9bac543591",
   "metadata": {},
   "source": [
    "## Objetivos\n",
    "\n",
    "- Aprender o básico sobre Jupyter Notebook.\n",
    "- Explorar a utilização de células Markdown e código.\n",
    "- Entender as principais linguagens e bibliotecas de Ciência de Dados.\n",
    "- Aplicar conceitos de aritmética e conversão de unidades."
   ]
  },
  {
   "cell_type": "markdown",
   "id": "43abe319-af21-4044-8f5d-26be7a536c25",
   "metadata": {},
   "source": [
    "## Autor\n",
    "\n",
    "Este notebook foi criado por *Ricardo*, um estudante de Ciência de Dados."
   ]
  },
  {
   "cell_type": "code",
   "execution_count": null,
   "id": "87002393-4931-424b-93ea-d4335ed7c060",
   "metadata": {},
   "outputs": [],
   "source": []
  }
 ],
 "metadata": {
  "kernelspec": {
   "display_name": "Python 3 (ipykernel)",
   "language": "python",
   "name": "python3"
  },
  "language_info": {
   "codemirror_mode": {
    "name": "ipython",
    "version": 3
   },
   "file_extension": ".py",
   "mimetype": "text/x-python",
   "name": "python",
   "nbconvert_exporter": "python",
   "pygments_lexer": "ipython3",
   "version": "3.13.1"
  }
 },
 "nbformat": 4,
 "nbformat_minor": 5
}
